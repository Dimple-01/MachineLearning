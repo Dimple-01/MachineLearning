{
 "cells": [
  {
   "cell_type": "code",
   "execution_count": null,
   "id": "57384f0f",
   "metadata": {},
   "outputs": [],
   "source": [
    "import cv2"
   ]
  },
  {
   "cell_type": "code",
   "execution_count": null,
   "id": "e04bb38e-737b-4a5b-b609-aa54142c7aa1",
   "metadata": {},
   "outputs": [],
   "source": [
    "img = cv2.imread(\"images.png\")\n",
    "# to make image in real colors BGR to RGB\n",
    "newImg = cv2.cvtColor(img,cv2.COLOR_BGR2RGB)"
   ]
  },
  {
   "cell_type": "code",
   "execution_count": null,
   "id": "93d1b02c-edb0-4624-b3d9-c2950864c84f",
   "metadata": {},
   "outputs": [],
   "source": [
    "from matplotlib import pyplot as plt"
   ]
  },
  {
   "cell_type": "code",
   "execution_count": null,
   "id": "559f19ee-2f53-4373-9404-5258a0bb61e3",
   "metadata": {},
   "outputs": [],
   "source": [
    "plt.imshow(img)\n",
    "plt.show()\n",
    "plt.imshow(newImg)\n",
    "plt.show()\n"
   ]
  },
  {
   "cell_type": "code",
   "execution_count": null,
   "id": "a23906c3-96db-46e9-98b2-6cbc92c805e0",
   "metadata": {},
   "outputs": [],
   "source": [
    "print(img)  #00000 = black #255255.. = white\n"
   ]
  },
  {
   "cell_type": "code",
   "execution_count": null,
   "id": "d33abf0e-d036-48f7-8c09-d96960e1a1b8",
   "metadata": {},
   "outputs": [],
   "source": [
    "#Simple program to read and show an image"
   ]
  },
  {
   "cell_type": "code",
   "execution_count": null,
   "id": "4b3c10e6-4bd7-47f4-a1d5-0cb6ff946b4d",
   "metadata": {},
   "outputs": [],
   "source": [
    "import cv2\n",
    "img= cv2.imread('images.png')\n",
    "cv2.imshow('Cute Dog',img)    # show image in RGB to RGB\n",
    "cv2.imshow('Gray Dog',gray)\n",
    "cv2.waitKey(0)    # if waitkey will be 250 or anything else, the image will appear for that second only\n",
    "cv2.destroyAllWindows()  # ALLOW to destroy image by user only"
   ]
  },
  {
   "cell_type": "code",
   "execution_count": null,
   "id": "85de0e6d-d9d5-4c9b-8cb7-722bc06b8955",
   "metadata": {},
   "outputs": [],
   "source": [
    "# Read a video Stream from cameras(Frame by Frame)\n",
    "import cv2\n",
    "cap = cv2.VideoCapture(0)  # 0 denotes default camera\n",
    "while True:\n",
    "    # if ret value is false it means image is not captured properly\n",
    "    #here frame = image\n",
    "    ret,frame = cap.read()\n",
    "    gray_Frame = cv2.cvtColor(frame,cv2.COLOR_BGR2RGB)\n",
    "    if ret == False:\n",
    "        continue\n",
    "    cv2.imshow(\"Video Frame\", frame)\n",
    "    cv2.imshow(\"Gray Frame\", gray_frame)\n",
    "    key_pressed = cv2.waitKey(1) & 0xFF    # cv2.waitKey(1) is of 32 bits  and 0xFF is 8bits and \n",
    "    #& operations gives 8 bits only which is used as ascii value\n",
    "    if key_pressed == ord('q'):          # ord gives ascii number\n",
    "        break\n",
    "        \n",
    "cap.release()\n",
    "cv2.destroyAllWindows()\n",
    "    \n"
   ]
  },
  {
   "cell_type": "code",
   "execution_count": null,
   "id": "aa71524d-7784-43af-8094-313f89cbd4ec",
   "metadata": {},
   "outputs": [],
   "source": [
    "# Read a video Stream from cameras(Frame by Frame)\n",
    "import cv2\n",
    "cap = cv2.VideoCapture(0)  # 0 denotes default camera\n",
    "face_cascade = cv2.CascaseClassifier(\"haarcascade_frontalface_alt.xml\")   #Object creation which work on facial data\n",
    "while True:\n",
    "    # if ret value is false it means image is not captured properly\n",
    "    #here frame = image\n",
    "    ret,frame = cap.read()\n",
    "    gray_Frame = cv2.cvtColor(frame,cv2.COLOR_BGR2RGB)\n",
    "    if ret == False:\n",
    "        continue\n",
    "\n",
    "    faces = face_cascade.detectMultiScale(gray_frame,1.3, 5)   # 1.3 is scalingFactor, NoOfNeighbors = 5\n",
    "    \n",
    "    for(x,y,w,h) in faces:\n",
    "        cv2.rectangle(frame,(x,y),(x+w,y+h),(255,0,0),2)\n",
    "     cv2.imshow(\"Video Frame\", frame)\n",
    "        \n",
    "    key_pressed = cv2.waitKey(1) & 0xFF    # cv2.waitKey(1) is of 32 bits  and 0xFF is 8bits and \n",
    "    #& operations gives 8 bits only which is used as ascii value\n",
    "    if key_pressed == ord('q'):          # ord gives ascii number\n",
    "        break\n",
    "        \n",
    "cap.release()\n",
    "cv2.destroyAllWindows()"
   ]
  },
  {
   "cell_type": "code",
   "execution_count": null,
   "id": "db8ab265-6d5d-4e32-b123-d363af3e9480",
   "metadata": {},
   "outputs": [],
   "source": [
    "#Scalefactor = Parameter specifying how much image size is reduced at each image scale.\n",
    "# it should be low so that each time small shink happens.\n",
    "\n",
    "#minNeighbors = Parameter specifying how many neighbors each rectange should have , \n",
    "#this affect the quality of detected faces. Higher value results in less detections.\n"
   ]
  }
 ],
 "metadata": {
  "kernelspec": {
   "display_name": "Python 3 (ipykernel)",
   "language": "python",
   "name": "python3"
  },
  "language_info": {
   "codemirror_mode": {
    "name": "ipython",
    "version": 3
   },
   "file_extension": ".py",
   "mimetype": "text/x-python",
   "name": "python",
   "nbconvert_exporter": "python",
   "pygments_lexer": "ipython3",
   "version": "3.11.4"
  }
 },
 "nbformat": 4,
 "nbformat_minor": 5
}

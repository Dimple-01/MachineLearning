{
 "cells": [
  {
   "cell_type": "code",
   "execution_count": 1,
   "id": "e896e4e2-aef1-4264-ac31-0e3a1e37ed47",
   "metadata": {},
   "outputs": [],
   "source": [
    "import numpy as np"
   ]
  },
  {
   "cell_type": "code",
   "execution_count": 2,
   "id": "0ac7fc2f-5732-45a6-88f8-6857394af086",
   "metadata": {},
   "outputs": [],
   "source": [
    "import cv2"
   ]
  },
  {
   "cell_type": "code",
   "execution_count": null,
   "id": "1eab5d57-969f-44d3-a665-28fb4113497c",
   "metadata": {},
   "outputs": [],
   "source": [
    "#read and show Video Stream, capture images\n",
    "#Detect faces and show bounding box\n",
    "#flatten the largest face and store in numpy array\n",
    "#repeat the above for multiple people to generate training data"
   ]
  },
  {
   "cell_type": "code",
   "execution_count": 4,
   "id": "9b4ee25b-44ce-4318-8746-506a9701bf0d",
   "metadata": {},
   "outputs": [],
   "source": [
    "cap = cv2.VideoCapture(0)\n",
    "face_cascade = cv2.CascadeClassifier(\"haarcascade_frontalface_alt.xml\")\n",
    "while True:\n",
    "    ret,frame = cap.read()\n",
    "    if ret == False:\n",
    "        continue\n",
    "    cv2.imshow(\"Frame\", frame)\n",
    "    key_pressed = cv2.waitKey(1) & 0xFF\n",
    "    if key_pressed == ord('q'):\n",
    "        break\n",
    "cap.release()\n",
    "cv2.destroyAllWindows()\n",
    "    # basic camera access\n",
    "    "
   ]
  },
  {
   "cell_type": "code",
   "execution_count": 5,
   "id": "a57327bd-7b90-4b5d-b64d-7cb605049596",
   "metadata": {},
   "outputs": [
    {
     "name": "stdin",
     "output_type": "stream",
     "text": [
      "Enter the person name :  Dimple\n"
     ]
    },
    {
     "name": "stdout",
     "output_type": "stream",
     "text": [
      "1\n",
      "2\n",
      "3\n",
      "4\n",
      "5\n",
      "6\n",
      "7\n",
      "8\n",
      "9\n",
      "10\n",
      "11\n",
      "12\n",
      "13\n",
      "14\n",
      "15\n",
      "16\n",
      "17\n",
      "18\n",
      "19\n",
      "20\n",
      "21\n",
      "22\n",
      "(22, 30000)\n",
      "Data Successfully saved at ./data/Dimple.npy\n"
     ]
    }
   ],
   "source": [
    "cap = cv2.VideoCapture(0)\n",
    "face_cascade = cv2.CascadeClassifier(\"haarcascade_frontalface_alt.xml\")\n",
    "skip = 0\n",
    "face_data=[]\n",
    "dataset_path= './data/'\n",
    "\n",
    "file_name = input(\"Enter the person name : \")\n",
    "while True:\n",
    "    ret,frame = cap.read()\n",
    "    if ret == False:\n",
    "        continue\n",
    "    gray_frame = cv2.cvtColor(frame, cv2.COLOR_BGR2GRAY)\n",
    "    \n",
    "    faces = face_cascade.detectMultiScale(frame,1.3,5)\n",
    "    faces = sorted(faces,key=lambda f:f[2]*f[3])\n",
    "        # DETECT FACES BASED ON AREA  (f[2] * f[3])\n",
    "    for face in faces:\n",
    "        x,y,w,h = face\n",
    "        cv2.rectangle(frame,(x,y),(x+w,y+h),(0,255,255),2)       # bounding box\n",
    "        #Extract (crop required face) region of interest\n",
    "        offset = 10\n",
    "        face_section = frame[y-offset:y+h+offset, x-offset: x+w+offset]\n",
    "        face_section = cv2.resize(face_section,(100,100))\n",
    "    skip += 1\n",
    "    if skip%10==0:     # capturing not every frame , just capturing 10th frame\n",
    "        face_data.append(face_section)\n",
    "        print(len(face_data))\n",
    "        \n",
    "    cv2.imshow(\"Frame\", frame)\n",
    "    cv2.imshow(\"Face Section\", face_section)\n",
    "  #  if(skip%10==0):     # store every 10th face\n",
    "        #pass\n",
    "        \n",
    "    key_pressed = cv2.waitKey(1) & 0xFF\n",
    "    if key_pressed == ord('q'):\n",
    "        break\n",
    "#convert our face list into numpy array\n",
    "\n",
    "face_data = np.asarray(face_data)\n",
    "face_data = face_data.reshape((face_data.shape[0],-1))\n",
    "print(face_data.shape)\n",
    "#SAVE DATA\n",
    "np.save(dataset_path+file_name+'.npy',face_data)\n",
    "print(\"Data Successfully saved at \" + dataset_path+file_name+'.npy')\n",
    "\n",
    "cap.release()\n",
    "cv2.destroyAllWindows()"
   ]
  },
  {
   "cell_type": "code",
   "execution_count": null,
   "id": "cb89227a-7907-4c9c-80bd-4128672e426d",
   "metadata": {},
   "outputs": [],
   "source": []
  }
 ],
 "metadata": {
  "kernelspec": {
   "display_name": "Python 3 (ipykernel)",
   "language": "python",
   "name": "python3"
  },
  "language_info": {
   "codemirror_mode": {
    "name": "ipython",
    "version": 3
   },
   "file_extension": ".py",
   "mimetype": "text/x-python",
   "name": "python",
   "nbconvert_exporter": "python",
   "pygments_lexer": "ipython3",
   "version": "3.11.4"
  }
 },
 "nbformat": 4,
 "nbformat_minor": 5
}

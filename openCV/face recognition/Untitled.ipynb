{
 "cells": [
  {
   "cell_type": "code",
   "execution_count": null,
   "id": "5d9b75e6-386c-4d86-b65a-a33940c27811",
   "metadata": {},
   "outputs": [],
   "source": [
    "# Recognise Faces using some classification algorithm - like Logistic , KNN, etc\n",
    "# Read a video stream using opencv\n",
    "# Extract faces out of it\n",
    "#load the training data(numpy arrays of all persons)\n",
    "            #x values are stored in numpy arrays\n",
    "            #yvalues we need to assign for each person\n",
    "# use KNN to find the prediction of face\n",
    "#map the predicted id to name of the user\n",
    "#Display the predictions on the screen- bounding box and name"
   ]
  },
  {
   "cell_type": "code",
   "execution_count": 9,
   "id": "14b0b6b3-7532-4404-93af-e59d53fd7ef3",
   "metadata": {},
   "outputs": [],
   "source": [
    "import cv2\n",
    "import numpy as np\n",
    "import os"
   ]
  },
  {
   "cell_type": "code",
   "execution_count": 18,
   "id": "48478915-e2c5-48ff-a7de-e9334c5f9595",
   "metadata": {},
   "outputs": [
    {
     "name": "stdout",
     "output_type": "stream",
     "text": [
      "LoadedDim.npy\n",
      "LoadedDimple.npy\n",
      "(49, 30000)\n",
      "(49, 1)\n",
      "(49, 30001)\n"
     ]
    },
    {
     "ename": "AttributeError",
     "evalue": "module 'cv2' has no attribute 'destroy'",
     "output_type": "error",
     "traceback": [
      "\u001b[1;31m---------------------------------------------------------------------------\u001b[0m",
      "\u001b[1;31mAttributeError\u001b[0m                            Traceback (most recent call last)",
      "Cell \u001b[1;32mIn[18], line 81\u001b[0m\n\u001b[0;32m     79\u001b[0m         \u001b[38;5;28;01mbreak\u001b[39;00m\n\u001b[0;32m     80\u001b[0m cap\u001b[38;5;241m.\u001b[39mrelease()\n\u001b[1;32m---> 81\u001b[0m \u001b[43mcv2\u001b[49m\u001b[38;5;241;43m.\u001b[39;49m\u001b[43mdestroy\u001b[49m()\n",
      "\u001b[1;31mAttributeError\u001b[0m: module 'cv2' has no attribute 'destroy'"
     ]
    }
   ],
   "source": [
    "# KNN\n",
    "def distance(v1,v2):\n",
    "    return np.sqrt(((v1 - v2) **2).sum())\n",
    "def knn(train, test, k=5):\n",
    "    dist=[]\n",
    "    \n",
    "    for i in range(train.shape[0]):\n",
    "        ix= train[i, :-1]\n",
    "        iy= train[i, -1]\n",
    "        # compute distance from test point\n",
    "        d=distance(test,ix)\n",
    "        dist.append([d,iy])\n",
    "        # sort based on distance and get top k\n",
    "    dk=sorted(dist, key= lambda x: x[0])[:k]\n",
    "    #Retrive only the labels\n",
    "    labels = np.array(dk)[:,-1]\n",
    "    # get freq at each label\n",
    "    output = np.unique(labels, return_counts=True)\n",
    "    #Find max frequency and corresponding label\n",
    "    index= np.argmax(output[1])\n",
    "    return output[0][index]\n",
    " ##############################\n",
    "#Init camera\n",
    "cap =cv2.VideoCapture(0)\n",
    "face_cascade= cv2.CascadeClassifier(\"haarcascade_frontalface_alt.xml\")\n",
    "skip =0\n",
    "dataset_path = './data/'\n",
    "\n",
    "face_data=[]\n",
    "labels=[]\n",
    "\n",
    "class_id =0 # labels for the given file\n",
    "names={}  # amp btw id -name\n",
    "\n",
    "# data Preparation\n",
    "for fx in os.listdir(dataset_path):\n",
    "    if fx.endswith('.npy'):\n",
    "        names[class_id]= fx[:-4]\n",
    "        print(\"Loaded\" + fx)\n",
    "        data_item = np.load(dataset_path+ fx)\n",
    "        face_data.append(data_item)\n",
    "\n",
    "        #create labels for the class\n",
    "        target= class_id*np.ones((data_item.shape[0],))\n",
    "        class_id +=1\n",
    "        labels.append(target)\n",
    "\n",
    "face_dataset= np.concatenate(face_data,axis=0)\n",
    "face_labels= np.concatenate(labels,axis=0).reshape((-1,1))\n",
    "print(face_dataset.shape)\n",
    "print(face_labels.shape)\n",
    "\n",
    "trainset = np.concatenate((face_dataset,face_labels), axis=1)\n",
    "print(trainset.shape)\n",
    "\n",
    "#Testing\n",
    "while True:\n",
    "    ret,frame = cap.read()\n",
    "    if ret == False:\n",
    "        continue\n",
    "    faces= face_cascade.detectMultiScale(frame,1.3,5)\n",
    "    for face in faces:\n",
    "        x,y,w,h = face\n",
    "        # Get the face ROI( region of interest)\n",
    "        offset=10\n",
    "        face_section = frame[y-offset: y+h+offset, x-offset: x+w+offset]\n",
    "        face_section = cv2.resize(face_section,(100,100))\n",
    "        \n",
    "        #Predicted label (out)\n",
    "        out = knn(trainset,face_section.flatten())\n",
    "        \n",
    "        #display on the screen the name and the reactangle around it\n",
    "        pred_name= names[int(out)]\n",
    "        cv2.putText(frame,pred_name,(x,y-10),cv2.FONT_HERSHEY_SIMPLEX,1,(255,0,0),2,cv2.LINE_AA)\n",
    "        cv2.rectangle(frame,(x,y),(x+w,y+h),(0,255,255),2)\n",
    "    cv2.imshow(\"Faces\",frame)\n",
    "    key_pressed = cv2.waitKey(1) & 0xFF\n",
    "    if key_pressed == ord('q'):\n",
    "        break\n",
    "cap.release()\n",
    "cv2.destroyAllWindows()\n",
    "\n",
    "        \n",
    "        \n"
   ]
  },
  {
   "cell_type": "code",
   "execution_count": null,
   "id": "0a37d8b8-736c-4348-9c2f-272f5153505c",
   "metadata": {},
   "outputs": [],
   "source": []
  }
 ],
 "metadata": {
  "kernelspec": {
   "display_name": "Python 3 (ipykernel)",
   "language": "python",
   "name": "python3"
  },
  "language_info": {
   "codemirror_mode": {
    "name": "ipython",
    "version": 3
   },
   "file_extension": ".py",
   "mimetype": "text/x-python",
   "name": "python",
   "nbconvert_exporter": "python",
   "pygments_lexer": "ipython3",
   "version": "3.11.4"
  }
 },
 "nbformat": 4,
 "nbformat_minor": 5
}
